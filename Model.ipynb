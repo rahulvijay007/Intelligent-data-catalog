{
 "cells": [
  {
   "cell_type": "markdown",
   "id": "3416640f",
   "metadata": {},
   "source": [
    "# Importing libraries"
   ]
  },
  {
   "cell_type": "code",
   "execution_count": 1,
   "id": "b6528f97",
   "metadata": {},
   "outputs": [
    {
     "name": "stdout",
     "output_type": "stream",
     "text": [
      "WARNING:tensorflow:From C:\\Users\\RAHULSRI\\anaconda3\\Lib\\site-packages\\keras\\src\\losses.py:2976: The name tf.losses.sparse_softmax_cross_entropy is deprecated. Please use tf.compat.v1.losses.sparse_softmax_cross_entropy instead.\n",
      "\n"
     ]
    }
   ],
   "source": [
    "import os\n",
    "import numpy as np\n",
    "from tensorflow.keras.preprocessing.image import ImageDataGenerator\n",
    "from tensorflow.keras.models import Sequential\n",
    "from tensorflow.keras.layers import Conv2D, MaxPooling2D, Flatten, Dense\n",
    "import sqlite3"
   ]
  },
  {
   "cell_type": "markdown",
   "id": "acfc79f5",
   "metadata": {},
   "source": [
    "# Data loading and preprocessing"
   ]
  },
  {
   "cell_type": "code",
   "execution_count": 2,
   "id": "f67fdcf3",
   "metadata": {},
   "outputs": [],
   "source": [
    "train_data_dir = 'Dataset/Training Data'\n",
    "test_data_dir = 'Dataset/Test Data'"
   ]
  },
  {
   "cell_type": "code",
   "execution_count": 3,
   "id": "07589e51",
   "metadata": {},
   "outputs": [],
   "source": [
    "train_datagen = ImageDataGenerator(rescale=1./255)\n",
    "test_datagen = ImageDataGenerator(rescale=1./255)"
   ]
  },
  {
   "cell_type": "code",
   "execution_count": 4,
   "id": "e60a833a",
   "metadata": {},
   "outputs": [
    {
     "name": "stdout",
     "output_type": "stream",
     "text": [
      "Found 631 images belonging to 12 classes.\n",
      "Found 233 images belonging to 5 classes.\n"
     ]
    }
   ],
   "source": [
    "train_generator = train_datagen.flow_from_directory(\n",
    "    train_data_dir,\n",
    "    target_size=(150, 150),\n",
    "    batch_size=32,\n",
    "    class_mode='binary')\n",
    "\n",
    "test_generator = test_datagen.flow_from_directory(\n",
    "    test_data_dir,\n",
    "    target_size=(150, 150),\n",
    "    batch_size=32,\n",
    "    class_mode='binary')"
   ]
  },
  {
   "cell_type": "markdown",
   "id": "5b6e46c4",
   "metadata": {},
   "source": [
    "# Model Development"
   ]
  },
  {
   "cell_type": "code",
   "execution_count": 5,
   "id": "ef6f53f0",
   "metadata": {},
   "outputs": [
    {
     "name": "stdout",
     "output_type": "stream",
     "text": [
      "WARNING:tensorflow:From C:\\Users\\RAHULSRI\\anaconda3\\Lib\\site-packages\\keras\\src\\backend.py:873: The name tf.get_default_graph is deprecated. Please use tf.compat.v1.get_default_graph instead.\n",
      "\n",
      "WARNING:tensorflow:From C:\\Users\\RAHULSRI\\anaconda3\\Lib\\site-packages\\keras\\src\\layers\\pooling\\max_pooling2d.py:161: The name tf.nn.max_pool is deprecated. Please use tf.nn.max_pool2d instead.\n",
      "\n"
     ]
    }
   ],
   "source": [
    "model = Sequential([\n",
    "    Conv2D(32, (3, 3), activation='relu', input_shape=(150, 150, 3)),\n",
    "    MaxPooling2D(2, 2),\n",
    "    Conv2D(64, (3, 3), activation='relu'),\n",
    "    MaxPooling2D(2, 2),\n",
    "    Conv2D(128, (3, 3), activation='relu'),\n",
    "    MaxPooling2D(2, 2),\n",
    "    Conv2D(128, (3, 3), activation='relu'),\n",
    "    MaxPooling2D(2, 2),\n",
    "    Flatten(),\n",
    "    Dense(512, activation='relu'),\n",
    "    Dense(1, activation='sigmoid')\n",
    "])"
   ]
  },
  {
   "cell_type": "code",
   "execution_count": 6,
   "id": "21f8f8ee",
   "metadata": {},
   "outputs": [
    {
     "name": "stdout",
     "output_type": "stream",
     "text": [
      "WARNING:tensorflow:From C:\\Users\\RAHULSRI\\anaconda3\\Lib\\site-packages\\keras\\src\\optimizers\\__init__.py:309: The name tf.train.Optimizer is deprecated. Please use tf.compat.v1.train.Optimizer instead.\n",
      "\n",
      "Epoch 1/10\n",
      "WARNING:tensorflow:From C:\\Users\\RAHULSRI\\anaconda3\\Lib\\site-packages\\keras\\src\\utils\\tf_utils.py:492: The name tf.ragged.RaggedTensorValue is deprecated. Please use tf.compat.v1.ragged.RaggedTensorValue instead.\n",
      "\n",
      "WARNING:tensorflow:From C:\\Users\\RAHULSRI\\anaconda3\\Lib\\site-packages\\keras\\src\\engine\\base_layer_utils.py:384: The name tf.executing_eagerly_outside_functions is deprecated. Please use tf.compat.v1.executing_eagerly_outside_functions instead.\n",
      "\n",
      "20/20 [==============================] - 35s 2s/step - loss: -93636.6172 - accuracy: 0.0032 - val_loss: -107712.2266 - val_accuracy: 0.4464\n",
      "Epoch 2/10\n",
      "20/20 [==============================] - 18s 918ms/step - loss: -22173708.0000 - accuracy: 0.0032 - val_loss: -13850097.0000 - val_accuracy: 0.4464\n",
      "Epoch 3/10\n",
      "20/20 [==============================] - 20s 1s/step - loss: -817781184.0000 - accuracy: 0.0032 - val_loss: -355953184.0000 - val_accuracy: 0.4464\n",
      "Epoch 4/10\n",
      "20/20 [==============================] - 20s 1s/step - loss: -11706297344.0000 - accuracy: 0.0032 - val_loss: -3944861952.0000 - val_accuracy: 0.4464\n",
      "Epoch 5/10\n",
      "20/20 [==============================] - 20s 1s/step - loss: -90171154432.0000 - accuracy: 0.0032 - val_loss: -25958703104.0000 - val_accuracy: 0.4464\n",
      "Epoch 6/10\n",
      "20/20 [==============================] - 20s 1s/step - loss: -474637172736.0000 - accuracy: 0.0032 - val_loss: -120391311360.0000 - val_accuracy: 0.4464\n",
      "Epoch 7/10\n",
      "20/20 [==============================] - 21s 1s/step - loss: -1865353789440.0000 - accuracy: 0.0032 - val_loss: -436367523840.0000 - val_accuracy: 0.4464\n",
      "Epoch 8/10\n",
      "20/20 [==============================] - 20s 1s/step - loss: -6103978999808.0000 - accuracy: 0.0032 - val_loss: -1310834294784.0000 - val_accuracy: 0.4464\n",
      "Epoch 9/10\n",
      "20/20 [==============================] - 20s 988ms/step - loss: -17013393063936.0000 - accuracy: 0.0032 - val_loss: -3415045570560.0000 - val_accuracy: 0.4464\n",
      "Epoch 10/10\n",
      "20/20 [==============================] - 25s 1s/step - loss: -41796616847360.0000 - accuracy: 0.0032 - val_loss: -7961702301696.0000 - val_accuracy: 0.4464\n"
     ]
    },
    {
     "data": {
      "text/plain": [
       "<keras.src.callbacks.History at 0x211cacd6050>"
      ]
     },
     "execution_count": 6,
     "metadata": {},
     "output_type": "execute_result"
    }
   ],
   "source": [
    "model.compile(optimizer='adam', loss='binary_crossentropy', metrics=['accuracy'])\n",
    "\n",
    "model.fit(train_generator, epochs=10, validation_data=test_generator)"
   ]
  },
  {
   "cell_type": "markdown",
   "id": "2f3faeb3",
   "metadata": {},
   "source": [
    "# Catalog System Development"
   ]
  },
  {
   "cell_type": "code",
   "execution_count": 7,
   "id": "eeaba267",
   "metadata": {},
   "outputs": [],
   "source": [
    "conn = sqlite3.connect('data_catalog.db')\n",
    "c = conn.cursor()"
   ]
  },
  {
   "cell_type": "code",
   "execution_count": 8,
   "id": "f7ad79b4",
   "metadata": {},
   "outputs": [
    {
     "data": {
      "text/plain": [
       "<sqlite3.Cursor at 0x211b7cb9bc0>"
      ]
     },
     "execution_count": 8,
     "metadata": {},
     "output_type": "execute_result"
    }
   ],
   "source": [
    "c.execute('''CREATE TABLE IF NOT EXISTS datasets\n",
    "             (id INTEGER PRIMARY KEY, name TEXT, description TEXT, tags TEXT)''')"
   ]
  },
  {
   "cell_type": "code",
   "execution_count": 9,
   "id": "1b12d94f",
   "metadata": {},
   "outputs": [],
   "source": [
    "def add_dataset(name, description, tags):\n",
    "    c.execute(\"INSERT INTO datasets (name, description, tags) VALUES (?, ?, ?)\", (name, description, tags))\n",
    "    conn.commit()"
   ]
  },
  {
   "cell_type": "code",
   "execution_count": 10,
   "id": "d072e792",
   "metadata": {},
   "outputs": [],
   "source": [
    "def get_datasets():\n",
    "    c.execute(\"SELECT * FROM datasets\")\n",
    "    return c.fetchall()"
   ]
  },
  {
   "cell_type": "markdown",
   "id": "648d48ab",
   "metadata": {},
   "source": [
    "# Search Feature Implementation"
   ]
  },
  {
   "cell_type": "code",
   "execution_count": 11,
   "id": "217de5bf",
   "metadata": {},
   "outputs": [],
   "source": [
    "def search_dataset(keyword):\n",
    "    c.execute(\"SELECT * FROM datasets WHERE name LIKE ? OR description LIKE ? OR tags LIKE ?\", \n",
    "              ('%' + keyword + '%', '%' + keyword + '%', '%' + keyword + '%'))\n",
    "    return c.fetchall()\n"
   ]
  },
  {
   "cell_type": "markdown",
   "id": "ff598258",
   "metadata": {},
   "source": [
    "# Automation"
   ]
  },
  {
   "cell_type": "code",
   "execution_count": 12,
   "id": "9bef417e",
   "metadata": {},
   "outputs": [],
   "source": [
    "def automate_data_processing():\n",
    "    incoming_data_dir = 'incoming_data'\n",
    "\n",
    "    for root, dirs, files in os.walk(incoming_data_dir):\n",
    "        for file in files:\n",
    "            cleaned_data = clean_and_classify_data(os.path.join(root, file))\n",
    "            name = os.path.splitext(file)[0]\n",
    "            description = \"Automatically processed dataset\"\n",
    "            tags = \"automated, processed\"\n",
    "            add_dataset(name, description, tags)"
   ]
  },
  {
   "cell_type": "markdown",
   "id": "3e24b580",
   "metadata": {},
   "source": [
    "# Model saving"
   ]
  },
  {
   "cell_type": "code",
   "execution_count": 13,
   "id": "1675524b",
   "metadata": {},
   "outputs": [
    {
     "name": "stdout",
     "output_type": "stream",
     "text": [
      "INFO:tensorflow:Assets written to: ..Models/1\\assets\n"
     ]
    },
    {
     "name": "stderr",
     "output_type": "stream",
     "text": [
      "INFO:tensorflow:Assets written to: ..Models/1\\assets\n"
     ]
    }
   ],
   "source": [
    "model.save(f\"..Models/{1}\")"
   ]
  }
 ],
 "metadata": {
  "kernelspec": {
   "display_name": "Python 3 (ipykernel)",
   "language": "python",
   "name": "python3"
  },
  "language_info": {
   "codemirror_mode": {
    "name": "ipython",
    "version": 3
   },
   "file_extension": ".py",
   "mimetype": "text/x-python",
   "name": "python",
   "nbconvert_exporter": "python",
   "pygments_lexer": "ipython3",
   "version": "3.11.4"
  }
 },
 "nbformat": 4,
 "nbformat_minor": 5
}
