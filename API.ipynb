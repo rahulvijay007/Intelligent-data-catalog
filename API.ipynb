{
 "cells": [
  {
   "cell_type": "markdown",
   "id": "66df9e5e",
   "metadata": {},
   "source": [
    "# API development"
   ]
  },
  {
   "cell_type": "code",
   "execution_count": 1,
   "id": "f65c0714",
   "metadata": {},
   "outputs": [],
   "source": [
    "from flask import Flask, jsonify, request"
   ]
  },
  {
   "cell_type": "code",
   "execution_count": 2,
   "id": "2a98bb49",
   "metadata": {},
   "outputs": [],
   "source": [
    "app = Flask('The Library')"
   ]
  },
  {
   "cell_type": "code",
   "execution_count": 3,
   "id": "0ab1c0e3",
   "metadata": {},
   "outputs": [],
   "source": [
    "@app.route('/Datasets/Test data', methods=['GET'])\n",
    "def get_all_datasets():\n",
    "    datasets = get_datasets()\n",
    "    return jsonify(datasets)"
   ]
  },
  {
   "cell_type": "code",
   "execution_count": 4,
   "id": "12d5f400",
   "metadata": {},
   "outputs": [],
   "source": [
    "@app.route('/Datasets/Test data/search', methods=['GET'])\n",
    "def search_datasets():\n",
    "    keyword = request.args.get('q')\n",
    "    datasets = search_dataset(keyword)\n",
    "    return jsonify(datasets)"
   ]
  },
  {
   "cell_type": "code",
   "execution_count": 5,
   "id": "d9d2ead8",
   "metadata": {},
   "outputs": [],
   "source": [
    "@app.route('/datasets', methods=['POST'])\n",
    "def add_new_dataset():\n",
    "    data = request.get_json()\n",
    "    name = data.get('name')\n",
    "    description = data.get('description')\n",
    "    tags = data.get('tags')\n",
    "    add_dataset(name, description, tags)\n",
    "    return jsonify({'message': 'Dataset added successfully'})"
   ]
  },
  {
   "cell_type": "code",
   "execution_count": 7,
   "id": "a4618017",
   "metadata": {},
   "outputs": [
    {
     "name": "stdout",
     "output_type": "stream",
     "text": [
      " * Serving Flask app 'The Library'\n",
      " * Debug mode: on\n"
     ]
    },
    {
     "name": "stderr",
     "output_type": "stream",
     "text": [
      "WARNING: This is a development server. Do not use it in a production deployment. Use a production WSGI server instead.\n",
      " * Running on http://127.0.0.1:5000\n",
      "Press CTRL+C to quit\n",
      " * Restarting with watchdog (windowsapi)\n"
     ]
    },
    {
     "ename": "SystemExit",
     "evalue": "1",
     "output_type": "error",
     "traceback": [
      "An exception has occurred, use %tb to see the full traceback.\n",
      "\u001b[1;31mSystemExit\u001b[0m\u001b[1;31m:\u001b[0m 1\n"
     ]
    }
   ],
   "source": [
    "if __name__ == '__main__':\n",
    "    app.run(debug=True)"
   ]
  }
 ],
 "metadata": {
  "kernelspec": {
   "display_name": "Python 3 (ipykernel)",
   "language": "python",
   "name": "python3"
  },
  "language_info": {
   "codemirror_mode": {
    "name": "ipython",
    "version": 3
   },
   "file_extension": ".py",
   "mimetype": "text/x-python",
   "name": "python",
   "nbconvert_exporter": "python",
   "pygments_lexer": "ipython3",
   "version": "3.11.4"
  }
 },
 "nbformat": 4,
 "nbformat_minor": 5
}
